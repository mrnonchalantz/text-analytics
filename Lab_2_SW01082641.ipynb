{
 "cells": [
  {
   "cell_type": "code",
   "execution_count": 6,
   "id": "cf8247dd-df61-41ce-bb53-44e8c855c795",
   "metadata": {},
   "outputs": [
    {
     "name": "stdout",
     "output_type": "stream",
     "text": [
      "Digits found: ['2', '4', '5', '6', '7', '8', '9', '3', '4', '1', '2', '3', '0']\n"
     ]
    }
   ],
   "source": [
    "# Exercise 1: Extract all digits from the text\n",
    "import re\n",
    "\n",
    "text = \"Order number: 24567, Tracking ID: 8934A12, Quantity: 30\"\n",
    "\n",
    "# Regular expression to find all digits\n",
    "pattern = r'\\d'\n",
    "\n",
    "matches = re.findall(pattern, text)\n",
    "print(\"Digits found:\", matches)"
   ]
  },
  {
   "cell_type": "code",
   "execution_count": 7,
   "id": "4b2173bd-fdfc-4654-b782-f5f4b01a62ef",
   "metadata": {},
   "outputs": [
    {
     "name": "stdout",
     "output_type": "stream",
     "text": [
      "Non-alphanumeric characters: ['!', ' ', \"'\", ' ', ' ', ' ', '?', ' ', ' ', ' ', '@', ' ', '.']\n"
     ]
    }
   ],
   "source": [
    "# Exercise 2: Extract all non-alphanumeric characters (spaces, punctuation, etc.) from the text\n",
    "text = \"Welcome! How's your day going? Call me @ 3pm.\"\n",
    "\n",
    "# Regular expression to find all non-alphanumeric characters\n",
    "pattern = r'[^a-zA-Z0-9]'\n",
    "\n",
    "matches = re.findall(pattern, text)\n",
    "print(\"Non-alphanumeric characters:\", matches)"
   ]
  },
  {
   "cell_type": "code",
   "execution_count": 8,
   "id": "e2c6d46f-9621-44b3-894b-5e561f041cfb",
   "metadata": {},
   "outputs": [
    {
     "name": "stdout",
     "output_type": "stream",
     "text": [
      "Split text: ['Data Science', ' AI', ' and Machine Learning', ' These fields are growing fast', '']\n"
     ]
    }
   ],
   "source": [
    "# Exercise 3: Split the text at commas and periods\n",
    "text = \"Data Science, AI, and Machine Learning. These fields are growing fast.\"\n",
    "\n",
    "# Regular expression to split at commas and periods\n",
    "pattern = r'[.,]'\n",
    "\n",
    "split_text = re.split(pattern, text)\n",
    "print(\"Split text:\", split_text)"
   ]
  },
  {
   "cell_type": "code",
   "execution_count": 9,
   "id": "60f17d13-bcf7-4086-a52e-807d00e8efef",
   "metadata": {},
   "outputs": [
    {
     "name": "stdout",
     "output_type": "stream",
     "text": [
      "Anonymized text: Contact us at [HIDDEN] or [HIDDEN]\n"
     ]
    }
   ],
   "source": [
    "# Exercise 4: Replace email addresses with [HIDDEN]\n",
    "text = \"Contact us at support@example.com or info@company.org\"\n",
    "\n",
    "# Regular expression to match email addresses\n",
    "pattern = r'\\b[A-Za-z0-9._%+-]+@[A-Za-z0-9.-]+\\.[A-Z|a-z]{2,}\\b'\n",
    "\n",
    "new_text = re.sub(pattern, \"[HIDDEN]\", text)\n",
    "print(\"Anonymized text:\", new_text)"
   ]
  },
  {
   "cell_type": "code",
   "execution_count": 10,
   "id": "cab2f45e-3210-4715-a73c-25e67463488f",
   "metadata": {},
   "outputs": [
    {
     "name": "stdout",
     "output_type": "stream",
     "text": [
      "Domain types: ['com', 'edu', 'org']\n"
     ]
    }
   ],
   "source": [
    "# Exercise 5: Extract only the domain types (e.g., com, org, edu) from email addresses\n",
    "text = \"Emails: user@gmail.com, admin@university.edu, info@company.org\"\n",
    "\n",
    "# Regular expression to match domain types\n",
    "pattern = r'@[a-zA-Z0-9.-]+\\.([a-zA-Z]{2,})'\n",
    "\n",
    "matches = re.findall(pattern, text)\n",
    "print(\"Domain types:\", matches)"
   ]
  }
 ],
 "metadata": {
  "kernelspec": {
   "display_name": "Python 3 (ipykernel)",
   "language": "python",
   "name": "python3"
  },
  "language_info": {
   "codemirror_mode": {
    "name": "ipython",
    "version": 3
   },
   "file_extension": ".py",
   "mimetype": "text/x-python",
   "name": "python",
   "nbconvert_exporter": "python",
   "pygments_lexer": "ipython3",
   "version": "3.12.7"
  }
 },
 "nbformat": 4,
 "nbformat_minor": 5
}
