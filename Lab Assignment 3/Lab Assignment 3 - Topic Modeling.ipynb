{
 "cells": [
  {
   "cell_type": "code",
   "execution_count": 8,
   "id": "5b13089b-1ec6-4886-968b-d57b580ca72b",
   "metadata": {},
   "outputs": [
    {
     "name": "stdout",
     "output_type": "stream",
     "text": [
      "Collecting pyLDAvis\n",
      "  Downloading pyLDAvis-3.4.1-py3-none-any.whl.metadata (4.2 kB)\n",
      "Requirement already satisfied: numpy>=1.24.2 in d:\\artix\\anaconda\\lib\\site-packages (from pyLDAvis) (1.26.4)\n",
      "Requirement already satisfied: scipy in d:\\artix\\anaconda\\lib\\site-packages (from pyLDAvis) (1.13.1)\n",
      "Requirement already satisfied: pandas>=2.0.0 in d:\\artix\\anaconda\\lib\\site-packages (from pyLDAvis) (2.2.2)\n",
      "Requirement already satisfied: joblib>=1.2.0 in d:\\artix\\anaconda\\lib\\site-packages (from pyLDAvis) (1.4.2)\n",
      "Requirement already satisfied: jinja2 in d:\\artix\\anaconda\\lib\\site-packages (from pyLDAvis) (3.1.4)\n",
      "Requirement already satisfied: numexpr in d:\\artix\\anaconda\\lib\\site-packages (from pyLDAvis) (2.8.7)\n",
      "Collecting funcy (from pyLDAvis)\n",
      "  Downloading funcy-2.0-py2.py3-none-any.whl.metadata (5.9 kB)\n",
      "Requirement already satisfied: scikit-learn>=1.0.0 in d:\\artix\\anaconda\\lib\\site-packages (from pyLDAvis) (1.5.1)\n",
      "Requirement already satisfied: gensim in d:\\artix\\anaconda\\lib\\site-packages (from pyLDAvis) (4.3.3)\n",
      "Requirement already satisfied: setuptools in d:\\artix\\anaconda\\lib\\site-packages (from pyLDAvis) (75.1.0)\n",
      "Requirement already satisfied: python-dateutil>=2.8.2 in d:\\artix\\anaconda\\lib\\site-packages (from pandas>=2.0.0->pyLDAvis) (2.9.0.post0)\n",
      "Requirement already satisfied: pytz>=2020.1 in d:\\artix\\anaconda\\lib\\site-packages (from pandas>=2.0.0->pyLDAvis) (2024.1)\n",
      "Requirement already satisfied: tzdata>=2022.7 in d:\\artix\\anaconda\\lib\\site-packages (from pandas>=2.0.0->pyLDAvis) (2023.3)\n",
      "Requirement already satisfied: threadpoolctl>=3.1.0 in d:\\artix\\anaconda\\lib\\site-packages (from scikit-learn>=1.0.0->pyLDAvis) (3.5.0)\n",
      "Requirement already satisfied: smart-open>=1.8.1 in d:\\artix\\anaconda\\lib\\site-packages (from gensim->pyLDAvis) (5.2.1)\n",
      "Requirement already satisfied: MarkupSafe>=2.0 in d:\\artix\\anaconda\\lib\\site-packages (from jinja2->pyLDAvis) (2.1.3)\n",
      "Requirement already satisfied: six>=1.5 in d:\\artix\\anaconda\\lib\\site-packages (from python-dateutil>=2.8.2->pandas>=2.0.0->pyLDAvis) (1.16.0)\n",
      "Downloading pyLDAvis-3.4.1-py3-none-any.whl (2.6 MB)\n",
      "   ---------------------------------------- 0.0/2.6 MB ? eta -:--:--\n",
      "   ---- ----------------------------------- 0.3/2.6 MB ? eta -:--:--\n",
      "   ------------ --------------------------- 0.8/2.6 MB 2.4 MB/s eta 0:00:01\n",
      "   -------------------- ------------------- 1.3/2.6 MB 2.5 MB/s eta 0:00:01\n",
      "   ---------------------------- ----------- 1.8/2.6 MB 2.5 MB/s eta 0:00:01\n",
      "   ------------------------------------ --- 2.4/2.6 MB 2.5 MB/s eta 0:00:01\n",
      "   ---------------------------------------- 2.6/2.6 MB 2.3 MB/s eta 0:00:00\n",
      "Downloading funcy-2.0-py2.py3-none-any.whl (30 kB)\n",
      "Installing collected packages: funcy, pyLDAvis\n",
      "Successfully installed funcy-2.0 pyLDAvis-3.4.1\n",
      "Note: you may need to restart the kernel to use updated packages.\n"
     ]
    }
   ],
   "source": [
    "pip install pyLDAvis"
   ]
  },
  {
   "cell_type": "code",
   "execution_count": 13,
   "id": "94a1951b-62b1-4040-8b03-d2a082cb616b",
   "metadata": {},
   "outputs": [
    {
     "name": "stderr",
     "output_type": "stream",
     "text": [
      "[nltk_data] Downloading package punkt to C:\\Users\\A S U\n",
      "[nltk_data]     S\\AppData\\Roaming\\nltk_data...\n",
      "[nltk_data]   Package punkt is already up-to-date!\n",
      "[nltk_data] Downloading package stopwords to C:\\Users\\A S U\n",
      "[nltk_data]     S\\AppData\\Roaming\\nltk_data...\n",
      "[nltk_data]   Package stopwords is already up-to-date!\n",
      "[nltk_data] Downloading package wordnet to C:\\Users\\A S U\n",
      "[nltk_data]     S\\AppData\\Roaming\\nltk_data...\n",
      "[nltk_data]   Package wordnet is already up-to-date!\n"
     ]
    },
    {
     "name": "stdout",
     "output_type": "stream",
     "text": [
      "Total documents: 11096\n",
      "\n",
      "📈 Coherence Score (c_v): 0.6157\n",
      "\n",
      "🧠 Topics Discovered by LDA Model:\n",
      "\n",
      "Topic 1:  key, use, encrypt, chip, db, system, inform, clipper, secur, program\n",
      "Topic 2:  stephanopoulo, presid, russian, game, new, team, year, turkey, white, april\n",
      "Topic 3:  would, peopl, one, govern, say, know, think, go, like, right\n",
      "Topic 4:  q, n, x, e, k, c, p, f, bh, r\n"
     ]
    },
    {
     "data": {
      "image/png": "[encoded data removed]",
      "text/plain": [
       "<Figure size 600x400 with 1 Axes>"
      ]
     },
     "metadata": {},
     "output_type": "display_data"
    }
   ],
   "source": [
    "# Muhammad Asif bin Ridzuan\n",
    "# Student ID: SW01082401\n",
    "# Lab Assignment 3 - Topic Modeling\n",
    "\n",
    "# ------------------------------\n",
    "# Step 1: Import Necessary Libraries\n",
    "# ------------------------------\n",
    "import pandas as pd\n",
    "import gensim\n",
    "from gensim import corpora\n",
    "from gensim.models import CoherenceModel, LdaModel\n",
    "from nltk.corpus import stopwords\n",
    "from nltk.tokenize import word_tokenize\n",
    "from nltk.stem import WordNetLemmatizer, PorterStemmer\n",
    "import nltk\n",
    "import matplotlib.pyplot as plt\n",
    "import pyLDAvis.gensim_models\n",
    "pyLDAvis.enable_notebook()\n",
    "pyLDAvis.gensim_models.prepare(lda_model, corpus, dictionary)\n",
    "import warnings\n",
    "warnings.filterwarnings('ignore')\n",
    "\n",
    "# Download necessary NLTK data\n",
    "nltk.download('punkt')\n",
    "nltk.download('stopwords')\n",
    "nltk.download('wordnet')\n",
    "\n",
    "# ------------------------------\n",
    "# Step 2: Read the Dataset\n",
    "# ------------------------------\n",
    "df = pd.read_csv('news_dataset.csv')\n",
    "df = df[['text']]\n",
    "df.dropna(inplace=True)\n",
    "print(f\"Total documents: {len(df)}\")\n",
    "\n",
    "# ------------------------------\n",
    "# Step 3: Text Preprocessing\n",
    "# ------------------------------\n",
    "stop_words = set(stopwords.words('english'))\n",
    "lemmatizer = WordNetLemmatizer()\n",
    "stemmer = PorterStemmer()\n",
    "\n",
    "def preprocess(text):\n",
    "    tokens = word_tokenize(text.lower())\n",
    "    tokens = [word for word in tokens if word.isalpha()]\n",
    "    tokens = [word for word in tokens if word not in stop_words]\n",
    "    tokens = [lemmatizer.lemmatize(word) for word in tokens]\n",
    "    tokens = [stemmer.stem(word) for word in tokens]\n",
    "    return tokens\n",
    "\n",
    "df['tokens'] = df['text'].apply(preprocess)\n",
    "\n",
    "# ------------------------------\n",
    "# Step 4: Prepare Dictionary and Corpus\n",
    "# ------------------------------\n",
    "dictionary = corpora.Dictionary(df['tokens'])\n",
    "corpus = [dictionary.doc2bow(text) for text in df['tokens']]\n",
    "\n",
    "# ------------------------------\n",
    "# Step 5: Train LDA Model\n",
    "# ------------------------------\n",
    "lda_model = LdaModel(corpus=corpus,\n",
    "                     id2word=dictionary,\n",
    "                     num_topics=4,\n",
    "                     random_state=42,\n",
    "                     update_every=1,\n",
    "                     chunksize=100,\n",
    "                     passes=10,\n",
    "                     alpha='auto',\n",
    "                     per_word_topics=True)\n",
    "\n",
    "# ------------------------------\n",
    "# Step 6: Evaluate with Coherence Score\n",
    "# ------------------------------\n",
    "coherence_model = CoherenceModel(model=lda_model, texts=df['tokens'], dictionary=dictionary, coherence='c_v')\n",
    "coherence_score = coherence_model.get_coherence()\n",
    "print(f\"\\n📈 Coherence Score (c_v): {coherence_score:.4f}\\n\")\n",
    "\n",
    "# ------------------------------\n",
    "# Step 7: Display Topics Nicely\n",
    "# ------------------------------\n",
    "print(\"🧠 Topics Discovered by LDA Model:\\n\")\n",
    "topics = lda_model.show_topics(num_topics=4, num_words=10, formatted=False)\n",
    "for i, topic in topics:\n",
    "    print(f\"Topic {i + 1}: \", \", \".join([word for word, _ in topic]))\n",
    "\n",
    "# ------------------------------\n",
    "# Optional: Visualize Topic Distribution per Document\n",
    "# ------------------------------\n",
    "# Create a bar plot to visualize the coherence score\n",
    "plt.figure(figsize=(6, 4))\n",
    "plt.bar(['LDA (4 topics)'], [coherence_score], color='skyblue')\n",
    "plt.title('Model Coherence Score')\n",
    "plt.ylabel('Coherence (c_v)')\n",
    "plt.ylim(0, 1)\n",
    "plt.grid(axis='y')\n",
    "plt.tight_layout()\n",
    "plt.show()"
   ]
  },
  {
   "cell_type": "markdown",
   "id": "0f310fae-d235-4cdb-a627-0687be36d17a",
   "metadata": {
    "scrolled": true
   },
   "source": [
    "# ------------------------------\n",
    "# Interpretation of Coherence Score\n",
    "# ------------------------------\n",
    "\n",
    "Interpretation of Coherence Score:\n",
    "\n",
    "The LDA model produced a coherence score of 0.6157, which gives us a general idea of how meaningful and related the topics are. Coherence scores range from 0 to 1, and the closer the score is to 1, the better the quality of the topics. A score above 0.6 is usually considered decent, especially for text data that hasn’t been manually labeled or pre-categorized. So in this case, the topics generated by the model are fairly coherent — the keywords in each topic make sense together and likely represent real themes in the news articles. While it’s not a perfect score, it shows that the model is doing a good job at uncovering underlying patterns in the text."
   ]
  }
 ],
 "metadata": {
  "kernelspec": {
   "display_name": "Python [conda env:base] *",
   "language": "python",
   "name": "conda-base-py"
  },
  "language_info": {
   "codemirror_mode": {
    "name": "ipython",
    "version": 3
   },
   "file_extension": ".py",
   "mimetype": "text/x-python",
   "name": "python",
   "nbconvert_exporter": "python",
   "pygments_lexer": "ipython3",
   "version": "3.12.7"
  }
 },
 "nbformat": 4,
 "nbformat_minor": 5
}
