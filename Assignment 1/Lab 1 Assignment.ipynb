{
 "cells": [
  {
   "cell_type": "code",
   "execution_count": null,
   "id": "80e0d869-70ff-4bcf-8bc0-1ce741bfe925",
   "metadata": {},
   "outputs": [],
   "source": [
    "pip install praw pandas"
   ]
  },
  {
   "cell_type": "code",
   "execution_count": 12,
   "id": "8393a11e-0383-4cff-9a8c-e7410b5820a8",
   "metadata": {},
   "outputs": [
    {
     "name": "stdout",
     "output_type": "stream",
     "text": [
      "Scraping complete. Data saved to 'reddit_comments.csv'.\n"
     ]
    }
   ],
   "source": [
    "import praw\n",
    "import pandas as pd\n",
    "\n",
    "# Reddit API credentials (replace with your own)\n",
    "client_id = \"Fzz_fEKggBSgGEkSSYxEFQ\"\n",
    "client_secret = \"Dz_gBegUvBMbPaAdSOn3s4Qqgxf-mg\"\n",
    "user_agent = \"python:ArtixDestinyScraper:1.0 (by u/Artix-Destiny)\"\n",
    "# Initialize PRAW\n",
    "reddit = praw.Reddit(client_id=client_id,\n",
    "                     client_secret=client_secret,\n",
    "                     user_agent=user_agent)\n",
    "\n",
    "# URL of the Reddit post\n",
    "url = \"https://www.reddit.com/r/ItemShop/comments/hcpkf9/feline_armadillo_armor_rare_15_armor_30_speed_20/\"\n",
    "submission = reddit.submission(url=url)\n",
    "\n",
    "# Scraping the comments\n",
    "comments_data = []\n",
    "submission.comments.replace_more(limit=None)  # Load all comments\n",
    "\n",
    "for comment in submission.comments.list():\n",
    "    comments_data.append({\n",
    "        \"Comment ID\": comment.id,\n",
    "        \"Author\": comment.author.name if comment.author else \"Deleted\",\n",
    "        \"Comment\": comment.body,\n",
    "        \"Upvotes\": comment.score,\n",
    "        \"Timestamp\": comment.created_utc\n",
    "    })\n",
    "\n",
    "# Save to CSV\n",
    "df = pd.DataFrame(comments_data)\n",
    "df.to_csv(\"reddit_comments.csv\", index=False)\n",
    "\n",
    "print(\"Scraping complete. Data saved to 'reddit_comments.csv'.\")\n"
   ]
  }
 ],
 "metadata": {
  "kernelspec": {
   "display_name": "Python [conda env:base] *",
   "language": "python",
   "name": "conda-base-py"
  },
  "language_info": {
   "codemirror_mode": {
    "name": "ipython",
    "version": 3
   },
   "file_extension": ".py",
   "mimetype": "text/x-python",
   "name": "python",
   "nbconvert_exporter": "python",
   "pygments_lexer": "ipython3",
   "version": "3.12.7"
  }
 },
 "nbformat": 4,
 "nbformat_minor": 5
}
